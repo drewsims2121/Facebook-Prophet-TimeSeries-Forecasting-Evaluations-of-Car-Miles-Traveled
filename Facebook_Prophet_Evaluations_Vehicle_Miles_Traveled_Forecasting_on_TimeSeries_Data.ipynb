{
 "cells": [
  {
   "cell_type": "markdown",
   "metadata": {},
   "source": [
    "___\n",
    "\n",
    "<a href='http://www.pieriandata.com'><img src='Pierian_Data_Logo.png'/></a>\n",
    "___\n",
    "<center><em>Copyright Pierian Data</em></center>"
   ]
  },
  {
   "cell_type": "markdown",
   "metadata": {},
   "source": [
    "# Facebook Prophet Evaluations of Vehicle Miles Traveled Forecasting on Time Series Data"
   ]
  },
  {
   "cell_type": "markdown",
   "metadata": {},
   "source": [
    "**By Drew Sims**\n",
    "\n",
    "The following project was an exercise project given by Pierian Data in the Python for Time-series Data Science Bootcamp."
   ]
  },
  {
   "cell_type": "markdown",
   "metadata": {},
   "source": [
    "**The goal of this project is to forecast the amount of miles that will be traveled within the United States using Facebook's Prophet Library. The model will then be evaluated using Facebook Prophet's Metrics.**\n",
    "\n",
    "        - The data is based on the number of miles driven within the United States each year\n",
    "        - The data is collected in a monthly interval"
   ]
  },
  {
   "cell_type": "markdown",
   "metadata": {},
   "source": [
    "Data download link: https://fred.stlouisfed.org/series/TRFVOLUSM227NFWA"
   ]
  },
  {
   "cell_type": "markdown",
   "metadata": {},
   "source": [
    "**The Steps are as followed:**\n",
    "\n",
    "**1.)** Import Libraries\n",
    "\n",
    "**2.)** Import CSV Data\n",
    "\n",
    "**3.)** Explore Data\n",
    "\n",
    "**4.)** Visualize Data\n",
    "\n",
    "**5.)** Train Test Split\n",
    "\n",
    "**6.)** Create Prophet Model\n",
    "\n",
    "**7.)** Visualize Model Performance\n",
    "\n",
    "**8.)** Manually Evaluate Model Performance\n",
    "\n",
    "**9.)** Prophet Diagnostics for Model Evaluation"
   ]
  },
  {
   "cell_type": "markdown",
   "metadata": {},
   "source": [
    "# 1.) Import Libraries"
   ]
  },
  {
   "cell_type": "code",
   "execution_count": 1,
   "metadata": {},
   "outputs": [],
   "source": [
    "import pandas as pd\n",
    "from fbprophet import Prophet\n",
    "%matplotlib inline"
   ]
  },
  {
   "cell_type": "markdown",
   "metadata": {},
   "source": [
    "# 2.) Import CSV Data"
   ]
  },
  {
   "cell_type": "code",
   "execution_count": 2,
   "metadata": {},
   "outputs": [],
   "source": [
    "# Read in the csv and convert to a dataframe\n",
    "\n",
    "df = pd.read_csv('..\\\\Data\\\\Miles_Traveled.csv')"
   ]
  },
  {
   "cell_type": "markdown",
   "metadata": {},
   "source": [
    "# 3.) Explore Data"
   ]
  },
  {
   "cell_type": "code",
   "execution_count": 3,
   "metadata": {},
   "outputs": [
    {
     "name": "stdout",
     "output_type": "stream",
     "text": [
      "<class 'pandas.core.frame.DataFrame'>\n",
      "RangeIndex: 588 entries, 0 to 587\n",
      "Data columns (total 2 columns):\n",
      " #   Column            Non-Null Count  Dtype  \n",
      "---  ------            --------------  -----  \n",
      " 0   DATE              588 non-null    object \n",
      " 1   TRFVOLUSM227NFWA  588 non-null    float64\n",
      "dtypes: float64(1), object(1)\n",
      "memory usage: 9.3+ KB\n"
     ]
    }
   ],
   "source": [
    "# Check datatypes and names of columns\n",
    "\n",
    "df.info()"
   ]
  },
  {
   "cell_type": "code",
   "execution_count": 4,
   "metadata": {},
   "outputs": [],
   "source": [
    "# Need to rename the prediction data column from its federal code to 'y'\n",
    "# Need to set the date column to 'ds' for Prophet to recognize it\n",
    "\n",
    "# Also need to change the data type from floats to datetime64\n",
    "\n",
    "df.columns = ['ds','y']\n",
    "df['ds'] = pd.to_datetime(df['ds'])"
   ]
  },
  {
   "cell_type": "code",
   "execution_count": 5,
   "metadata": {},
   "outputs": [
    {
     "data": {
      "text/html": [
       "<div>\n",
       "<style scoped>\n",
       "    .dataframe tbody tr th:only-of-type {\n",
       "        vertical-align: middle;\n",
       "    }\n",
       "\n",
       "    .dataframe tbody tr th {\n",
       "        vertical-align: top;\n",
       "    }\n",
       "\n",
       "    .dataframe thead th {\n",
       "        text-align: right;\n",
       "    }\n",
       "</style>\n",
       "<table border=\"1\" class=\"dataframe\">\n",
       "  <thead>\n",
       "    <tr style=\"text-align: right;\">\n",
       "      <th></th>\n",
       "      <th>ds</th>\n",
       "      <th>y</th>\n",
       "    </tr>\n",
       "  </thead>\n",
       "  <tbody>\n",
       "    <tr>\n",
       "      <th>0</th>\n",
       "      <td>1970-01-01</td>\n",
       "      <td>80173.0</td>\n",
       "    </tr>\n",
       "    <tr>\n",
       "      <th>1</th>\n",
       "      <td>1970-02-01</td>\n",
       "      <td>77442.0</td>\n",
       "    </tr>\n",
       "    <tr>\n",
       "      <th>2</th>\n",
       "      <td>1970-03-01</td>\n",
       "      <td>90223.0</td>\n",
       "    </tr>\n",
       "    <tr>\n",
       "      <th>3</th>\n",
       "      <td>1970-04-01</td>\n",
       "      <td>89956.0</td>\n",
       "    </tr>\n",
       "    <tr>\n",
       "      <th>4</th>\n",
       "      <td>1970-05-01</td>\n",
       "      <td>97972.0</td>\n",
       "    </tr>\n",
       "  </tbody>\n",
       "</table>\n",
       "</div>"
      ],
      "text/plain": [
       "          ds        y\n",
       "0 1970-01-01  80173.0\n",
       "1 1970-02-01  77442.0\n",
       "2 1970-03-01  90223.0\n",
       "3 1970-04-01  89956.0\n",
       "4 1970-05-01  97972.0"
      ]
     },
     "execution_count": 5,
     "metadata": {},
     "output_type": "execute_result"
    }
   ],
   "source": [
    "# Ensure column names are correct for Prophet to recognize\n",
    "\n",
    "df.head(5)"
   ]
  },
  {
   "cell_type": "code",
   "execution_count": 6,
   "metadata": {},
   "outputs": [
    {
     "data": {
      "text/html": [
       "<div>\n",
       "<style scoped>\n",
       "    .dataframe tbody tr th:only-of-type {\n",
       "        vertical-align: middle;\n",
       "    }\n",
       "\n",
       "    .dataframe tbody tr th {\n",
       "        vertical-align: top;\n",
       "    }\n",
       "\n",
       "    .dataframe thead th {\n",
       "        text-align: right;\n",
       "    }\n",
       "</style>\n",
       "<table border=\"1\" class=\"dataframe\">\n",
       "  <thead>\n",
       "    <tr style=\"text-align: right;\">\n",
       "      <th></th>\n",
       "      <th>ds</th>\n",
       "      <th>y</th>\n",
       "    </tr>\n",
       "  </thead>\n",
       "  <tbody>\n",
       "    <tr>\n",
       "      <th>583</th>\n",
       "      <td>2018-08-01</td>\n",
       "      <td>286608.0</td>\n",
       "    </tr>\n",
       "    <tr>\n",
       "      <th>584</th>\n",
       "      <td>2018-09-01</td>\n",
       "      <td>260595.0</td>\n",
       "    </tr>\n",
       "    <tr>\n",
       "      <th>585</th>\n",
       "      <td>2018-10-01</td>\n",
       "      <td>282174.0</td>\n",
       "    </tr>\n",
       "    <tr>\n",
       "      <th>586</th>\n",
       "      <td>2018-11-01</td>\n",
       "      <td>258590.0</td>\n",
       "    </tr>\n",
       "    <tr>\n",
       "      <th>587</th>\n",
       "      <td>2018-12-01</td>\n",
       "      <td>268413.0</td>\n",
       "    </tr>\n",
       "  </tbody>\n",
       "</table>\n",
       "</div>"
      ],
      "text/plain": [
       "            ds         y\n",
       "583 2018-08-01  286608.0\n",
       "584 2018-09-01  260595.0\n",
       "585 2018-10-01  282174.0\n",
       "586 2018-11-01  258590.0\n",
       "587 2018-12-01  268413.0"
      ]
     },
     "execution_count": 6,
     "metadata": {},
     "output_type": "execute_result"
    }
   ],
   "source": [
    "df.tail(5)"
   ]
  },
  {
   "cell_type": "markdown",
   "metadata": {},
   "source": [
    "# 4.) Visualize Data"
   ]
  },
  {
   "cell_type": "code",
   "execution_count": 7,
   "metadata": {},
   "outputs": [
    {
     "data": {
      "text/plain": [
       "<matplotlib.axes._subplots.AxesSubplot at 0x2b1eb69aec8>"
      ]
     },
     "execution_count": 7,
     "metadata": {},
     "output_type": "execute_result"
    },
    {
     "data": {
      "image/png": "[encoded data removed]",
      "text/plain": [
       "<Figure size 432x288 with 1 Axes>"
      ]
     },
     "metadata": {
      "needs_background": "light"
     },
     "output_type": "display_data"
    }
   ],
   "source": [
    "df.plot(x='ds',y='y')"
   ]
  },
  {
   "cell_type": "markdown",
   "metadata": {},
   "source": [
    "# 5.) Train Test Split"
   ]
  },
  {
   "cell_type": "code",
   "execution_count": 8,
   "metadata": {},
   "outputs": [
    {
     "data": {
      "text/plain": [
       "588"
      ]
     },
     "execution_count": 8,
     "metadata": {},
     "output_type": "execute_result"
    }
   ],
   "source": [
    "len(df)"
   ]
  },
  {
   "cell_type": "code",
   "execution_count": 9,
   "metadata": {},
   "outputs": [],
   "source": [
    "# Separate test set as the last 12 months (1 year)\n",
    "\n",
    "train = df.iloc[:576]\n",
    "test = df.iloc[576:]"
   ]
  },
  {
   "cell_type": "markdown",
   "metadata": {},
   "source": [
    "# 6.) Create Prophet Model"
   ]
  },
  {
   "cell_type": "code",
   "execution_count": 10,
   "metadata": {},
   "outputs": [
    {
     "name": "stderr",
     "output_type": "stream",
     "text": [
      "INFO:numexpr.utils:NumExpr defaulting to 8 threads.\n",
      "INFO:fbprophet:Disabling weekly seasonality. Run prophet with weekly_seasonality=True to override this.\n",
      "INFO:fbprophet:Disabling daily seasonality. Run prophet with daily_seasonality=True to override this.\n"
     ]
    }
   ],
   "source": [
    "# Create Instance of Prophet\n",
    "# Fit the Prophet Model\n",
    "# Creates dates dataframe with dates for the training data length extended by however many periods you have\n",
    "# Forecast future data (fill empty dates dataframe from 'future' with corresponding predicted values)\n",
    "\n",
    "m = Prophet()\n",
    "m.fit(train)\n",
    "future = m.make_future_dataframe(periods=12,freq='MS')\n",
    "forecast = m.predict(future)"
   ]
  },
  {
   "cell_type": "code",
   "execution_count": 11,
   "metadata": {},
   "outputs": [
    {
     "data": {
      "text/html": [
       "<div>\n",
       "<style scoped>\n",
       "    .dataframe tbody tr th:only-of-type {\n",
       "        vertical-align: middle;\n",
       "    }\n",
       "\n",
       "    .dataframe tbody tr th {\n",
       "        vertical-align: top;\n",
       "    }\n",
       "\n",
       "    .dataframe thead th {\n",
       "        text-align: right;\n",
       "    }\n",
       "</style>\n",
       "<table border=\"1\" class=\"dataframe\">\n",
       "  <thead>\n",
       "    <tr style=\"text-align: right;\">\n",
       "      <th></th>\n",
       "      <th>ds</th>\n",
       "    </tr>\n",
       "  </thead>\n",
       "  <tbody>\n",
       "    <tr>\n",
       "      <th>0</th>\n",
       "      <td>1970-01-01</td>\n",
       "    </tr>\n",
       "    <tr>\n",
       "      <th>1</th>\n",
       "      <td>1970-02-01</td>\n",
       "    </tr>\n",
       "    <tr>\n",
       "      <th>2</th>\n",
       "      <td>1970-03-01</td>\n",
       "    </tr>\n",
       "    <tr>\n",
       "      <th>3</th>\n",
       "      <td>1970-04-01</td>\n",
       "    </tr>\n",
       "    <tr>\n",
       "      <th>4</th>\n",
       "      <td>1970-05-01</td>\n",
       "    </tr>\n",
       "    <tr>\n",
       "      <th>...</th>\n",
       "      <td>...</td>\n",
       "    </tr>\n",
       "    <tr>\n",
       "      <th>583</th>\n",
       "      <td>2018-08-01</td>\n",
       "    </tr>\n",
       "    <tr>\n",
       "      <th>584</th>\n",
       "      <td>2018-09-01</td>\n",
       "    </tr>\n",
       "    <tr>\n",
       "      <th>585</th>\n",
       "      <td>2018-10-01</td>\n",
       "    </tr>\n",
       "    <tr>\n",
       "      <th>586</th>\n",
       "      <td>2018-11-01</td>\n",
       "    </tr>\n",
       "    <tr>\n",
       "      <th>587</th>\n",
       "      <td>2018-12-01</td>\n",
       "    </tr>\n",
       "  </tbody>\n",
       "</table>\n",
       "<p>588 rows × 1 columns</p>\n",
       "</div>"
      ],
      "text/plain": [
       "            ds\n",
       "0   1970-01-01\n",
       "1   1970-02-01\n",
       "2   1970-03-01\n",
       "3   1970-04-01\n",
       "4   1970-05-01\n",
       "..         ...\n",
       "583 2018-08-01\n",
       "584 2018-09-01\n",
       "585 2018-10-01\n",
       "586 2018-11-01\n",
       "587 2018-12-01\n",
       "\n",
       "[588 rows x 1 columns]"
      ]
     },
     "execution_count": 11,
     "metadata": {},
     "output_type": "execute_result"
    }
   ],
   "source": [
    "future"
   ]
  },
  {
   "cell_type": "code",
   "execution_count": 12,
   "metadata": {},
   "outputs": [
    {
     "data": {
      "text/plain": [
       "588"
      ]
     },
     "execution_count": 12,
     "metadata": {},
     "output_type": "execute_result"
    }
   ],
   "source": [
    "len(future)"
   ]
  },
  {
   "cell_type": "code",
   "execution_count": 13,
   "metadata": {},
   "outputs": [
    {
     "data": {
      "text/html": [
       "<div>\n",
       "<style scoped>\n",
       "    .dataframe tbody tr th:only-of-type {\n",
       "        vertical-align: middle;\n",
       "    }\n",
       "\n",
       "    .dataframe tbody tr th {\n",
       "        vertical-align: top;\n",
       "    }\n",
       "\n",
       "    .dataframe thead th {\n",
       "        text-align: right;\n",
       "    }\n",
       "</style>\n",
       "<table border=\"1\" class=\"dataframe\">\n",
       "  <thead>\n",
       "    <tr style=\"text-align: right;\">\n",
       "      <th></th>\n",
       "      <th>ds</th>\n",
       "      <th>trend</th>\n",
       "      <th>yhat_lower</th>\n",
       "      <th>yhat_upper</th>\n",
       "      <th>trend_lower</th>\n",
       "      <th>trend_upper</th>\n",
       "      <th>additive_terms</th>\n",
       "      <th>additive_terms_lower</th>\n",
       "      <th>additive_terms_upper</th>\n",
       "      <th>yearly</th>\n",
       "      <th>yearly_lower</th>\n",
       "      <th>yearly_upper</th>\n",
       "      <th>multiplicative_terms</th>\n",
       "      <th>multiplicative_terms_lower</th>\n",
       "      <th>multiplicative_terms_upper</th>\n",
       "      <th>yhat</th>\n",
       "    </tr>\n",
       "  </thead>\n",
       "  <tbody>\n",
       "    <tr>\n",
       "      <th>583</th>\n",
       "      <td>2018-08-01</td>\n",
       "      <td>263557.251253</td>\n",
       "      <td>274044.657658</td>\n",
       "      <td>285510.153235</td>\n",
       "      <td>263495.763829</td>\n",
       "      <td>263614.781120</td>\n",
       "      <td>16443.515456</td>\n",
       "      <td>16443.515456</td>\n",
       "      <td>16443.515456</td>\n",
       "      <td>16443.515456</td>\n",
       "      <td>16443.515456</td>\n",
       "      <td>16443.515456</td>\n",
       "      <td>0.0</td>\n",
       "      <td>0.0</td>\n",
       "      <td>0.0</td>\n",
       "      <td>280000.766709</td>\n",
       "    </tr>\n",
       "    <tr>\n",
       "      <th>584</th>\n",
       "      <td>2018-09-01</td>\n",
       "      <td>263701.749361</td>\n",
       "      <td>256361.233488</td>\n",
       "      <td>267728.137133</td>\n",
       "      <td>263603.284699</td>\n",
       "      <td>263783.409984</td>\n",
       "      <td>-1675.833952</td>\n",
       "      <td>-1675.833952</td>\n",
       "      <td>-1675.833952</td>\n",
       "      <td>-1675.833952</td>\n",
       "      <td>-1675.833952</td>\n",
       "      <td>-1675.833952</td>\n",
       "      <td>0.0</td>\n",
       "      <td>0.0</td>\n",
       "      <td>0.0</td>\n",
       "      <td>262025.915409</td>\n",
       "    </tr>\n",
       "    <tr>\n",
       "      <th>585</th>\n",
       "      <td>2018-10-01</td>\n",
       "      <td>263841.586239</td>\n",
       "      <td>263460.076168</td>\n",
       "      <td>275251.575346</td>\n",
       "      <td>263714.093540</td>\n",
       "      <td>263942.528577</td>\n",
       "      <td>5293.167898</td>\n",
       "      <td>5293.167898</td>\n",
       "      <td>5293.167898</td>\n",
       "      <td>5293.167898</td>\n",
       "      <td>5293.167898</td>\n",
       "      <td>5293.167898</td>\n",
       "      <td>0.0</td>\n",
       "      <td>0.0</td>\n",
       "      <td>0.0</td>\n",
       "      <td>269134.754137</td>\n",
       "    </tr>\n",
       "    <tr>\n",
       "      <th>586</th>\n",
       "      <td>2018-11-01</td>\n",
       "      <td>263986.084347</td>\n",
       "      <td>249309.151252</td>\n",
       "      <td>261586.257596</td>\n",
       "      <td>263828.721670</td>\n",
       "      <td>264119.230890</td>\n",
       "      <td>-8218.559465</td>\n",
       "      <td>-8218.559465</td>\n",
       "      <td>-8218.559465</td>\n",
       "      <td>-8218.559465</td>\n",
       "      <td>-8218.559465</td>\n",
       "      <td>-8218.559465</td>\n",
       "      <td>0.0</td>\n",
       "      <td>0.0</td>\n",
       "      <td>0.0</td>\n",
       "      <td>255767.524882</td>\n",
       "    </tr>\n",
       "    <tr>\n",
       "      <th>587</th>\n",
       "      <td>2018-12-01</td>\n",
       "      <td>264125.921226</td>\n",
       "      <td>250995.461051</td>\n",
       "      <td>262587.002296</td>\n",
       "      <td>263937.229592</td>\n",
       "      <td>264284.180649</td>\n",
       "      <td>-6932.605385</td>\n",
       "      <td>-6932.605385</td>\n",
       "      <td>-6932.605385</td>\n",
       "      <td>-6932.605385</td>\n",
       "      <td>-6932.605385</td>\n",
       "      <td>-6932.605385</td>\n",
       "      <td>0.0</td>\n",
       "      <td>0.0</td>\n",
       "      <td>0.0</td>\n",
       "      <td>257193.315841</td>\n",
       "    </tr>\n",
       "  </tbody>\n",
       "</table>\n",
       "</div>"
      ],
      "text/plain": [
       "            ds          trend     yhat_lower     yhat_upper    trend_lower  \\\n",
       "583 2018-08-01  263557.251253  274044.657658  285510.153235  263495.763829   \n",
       "584 2018-09-01  263701.749361  256361.233488  267728.137133  263603.284699   \n",
       "585 2018-10-01  263841.586239  263460.076168  275251.575346  263714.093540   \n",
       "586 2018-11-01  263986.084347  249309.151252  261586.257596  263828.721670   \n",
       "587 2018-12-01  264125.921226  250995.461051  262587.002296  263937.229592   \n",
       "\n",
       "       trend_upper  additive_terms  additive_terms_lower  \\\n",
       "583  263614.781120    16443.515456          16443.515456   \n",
       "584  263783.409984    -1675.833952          -1675.833952   \n",
       "585  263942.528577     5293.167898           5293.167898   \n",
       "586  264119.230890    -8218.559465          -8218.559465   \n",
       "587  264284.180649    -6932.605385          -6932.605385   \n",
       "\n",
       "     additive_terms_upper        yearly  yearly_lower  yearly_upper  \\\n",
       "583          16443.515456  16443.515456  16443.515456  16443.515456   \n",
       "584          -1675.833952  -1675.833952  -1675.833952  -1675.833952   \n",
       "585           5293.167898   5293.167898   5293.167898   5293.167898   \n",
       "586          -8218.559465  -8218.559465  -8218.559465  -8218.559465   \n",
       "587          -6932.605385  -6932.605385  -6932.605385  -6932.605385   \n",
       "\n",
       "     multiplicative_terms  multiplicative_terms_lower  \\\n",
       "583                   0.0                         0.0   \n",
       "584                   0.0                         0.0   \n",
       "585                   0.0                         0.0   \n",
       "586                   0.0                         0.0   \n",
       "587                   0.0                         0.0   \n",
       "\n",
       "     multiplicative_terms_upper           yhat  \n",
       "583                         0.0  280000.766709  \n",
       "584                         0.0  262025.915409  \n",
       "585                         0.0  269134.754137  \n",
       "586                         0.0  255767.524882  \n",
       "587                         0.0  257193.315841  "
      ]
     },
     "execution_count": 13,
     "metadata": {},
     "output_type": "execute_result"
    }
   ],
   "source": [
    "# Ensure 'yhat' (predicted values) are there\n",
    "\n",
    "forecast.tail()"
   ]
  },
  {
   "cell_type": "markdown",
   "metadata": {},
   "source": [
    "# 7.) Visualize Model Performance"
   ]
  },
  {
   "cell_type": "code",
   "execution_count": 14,
   "metadata": {},
   "outputs": [
    {
     "data": {
      "text/plain": [
       "<matplotlib.axes._subplots.AxesSubplot at 0x2b1eead0148>"
      ]
     },
     "execution_count": 14,
     "metadata": {},
     "output_type": "execute_result"
    },
    {
     "data": {
      "image/png": "[encoded data removed]",
      "text/plain": [
       "<Figure size 864x576 with 1 Axes>"
      ]
     },
     "metadata": {
      "needs_background": "light"
     },
     "output_type": "display_data"
    }
   ],
   "source": [
    "# 2018-2019 is the dates of the start and end of test set\n",
    "# predictions seem rather close to the true data\n",
    "\n",
    "ax = forecast.plot(x='ds',y='yhat',label='Predictions',legend=True,figsize=(12,8))\n",
    "test.plot(x='ds',y='y',label='True Test Data',legend=True,ax=ax,xlim=('2018-01-01','2019-01-01'))"
   ]
  },
  {
   "cell_type": "markdown",
   "metadata": {},
   "source": [
    "# 8.) Manually Evaluate Model Performance"
   ]
  },
  {
   "cell_type": "code",
   "execution_count": 15,
   "metadata": {},
   "outputs": [],
   "source": [
    "# Import RMSE Model\n",
    "\n",
    "from statsmodels.tools.eval_measures import rmse"
   ]
  },
  {
   "cell_type": "code",
   "execution_count": 16,
   "metadata": {},
   "outputs": [],
   "source": [
    "# Create predictions variable for last 12 months of data\n",
    "\n",
    "predictions = forecast.iloc[-12:]['yhat']"
   ]
  },
  {
   "cell_type": "code",
   "execution_count": 17,
   "metadata": {},
   "outputs": [
    {
     "data": {
      "text/plain": [
       "576    243969.272997\n",
       "577    235604.734139\n",
       "578    262807.783513\n",
       "579    263016.187323\n",
       "580    272739.162173\n",
       "581    272999.948918\n",
       "582    279459.160887\n",
       "583    280000.766709\n",
       "584    262025.915409\n",
       "585    269134.754137\n",
       "586    255767.524882\n",
       "587    257193.315841\n",
       "Name: yhat, dtype: float64"
      ]
     },
     "execution_count": 17,
     "metadata": {},
     "output_type": "execute_result"
    }
   ],
   "source": [
    "# prediction values\n",
    "\n",
    "predictions"
   ]
  },
  {
   "cell_type": "code",
   "execution_count": 18,
   "metadata": {},
   "outputs": [
    {
     "data": {
      "text/plain": [
       "576    245695.0\n",
       "577    226660.0\n",
       "578    268480.0\n",
       "579    272475.0\n",
       "580    286164.0\n",
       "581    280877.0\n",
       "582    288145.0\n",
       "583    286608.0\n",
       "584    260595.0\n",
       "585    282174.0\n",
       "586    258590.0\n",
       "587    268413.0\n",
       "Name: y, dtype: float64"
      ]
     },
     "execution_count": 18,
     "metadata": {},
     "output_type": "execute_result"
    }
   ],
   "source": [
    "# test values\n",
    "\n",
    "test['y']"
   ]
  },
  {
   "cell_type": "code",
   "execution_count": 19,
   "metadata": {},
   "outputs": [
    {
     "data": {
      "text/plain": [
       "8524.084735454997"
      ]
     },
     "execution_count": 19,
     "metadata": {},
     "output_type": "execute_result"
    }
   ],
   "source": [
    "# Determine RMSE for predictions vs 'y' values\n",
    "\n",
    "rmse(predictions,test['y'])"
   ]
  },
  {
   "cell_type": "code",
   "execution_count": 20,
   "metadata": {},
   "outputs": [
    {
     "name": "stderr",
     "output_type": "stream",
     "text": [
      "C:\\Users\\Drew\\Anaconda3\\lib\\site-packages\\ipykernel_launcher.py:3: FutureWarning: DataFrame.mean and DataFrame.median with numeric_only=None will include datetime64 and datetime64tz columns in a future version.\n",
      "  This is separate from the ipykernel package so we can avoid doing imports until\n"
     ]
    },
    {
     "data": {
      "text/plain": [
       "y    268739.666667\n",
       "dtype: float64"
      ]
     },
     "execution_count": 20,
     "metadata": {},
     "output_type": "execute_result"
    }
   ],
   "source": [
    "# The RMSE error is under 10,000 while the data is in the 200,000's making the error very minimal\n",
    "\n",
    "test.mean()"
   ]
  },
  {
   "cell_type": "markdown",
   "metadata": {},
   "source": [
    "# 9.) Prophet Diagnoistics for Model Evaluation"
   ]
  },
  {
   "cell_type": "code",
   "execution_count": 21,
   "metadata": {},
   "outputs": [],
   "source": [
    "# import Prophet diagonistics libraries\n",
    "\n",
    "from fbprophet.diagnostics import cross_validation,performance_metrics\n",
    "from fbprophet.plot import plot_cross_validation_metric"
   ]
  },
  {
   "cell_type": "code",
   "execution_count": 22,
   "metadata": {},
   "outputs": [],
   "source": [
    "# Define Intial training period (prophet needs it in days, needs a very particular format based off pandas 'TimeDelta')\n",
    "    # Period length for cross validation\n",
    "        # Horizon of prediction for each fold\n",
    "\n",
    "# Initial\n",
    "initial = 5 * 365 \n",
    "initial = str(initial) + ' days'   # Prophet requires it in strings"
   ]
  },
  {
   "cell_type": "code",
   "execution_count": 23,
   "metadata": {
    "scrolled": true
   },
   "outputs": [
    {
     "data": {
      "text/plain": [
       "'1825 days'"
      ]
     },
     "execution_count": 23,
     "metadata": {},
     "output_type": "execute_result"
    }
   ],
   "source": [
    "initial"
   ]
  },
  {
   "cell_type": "code",
   "execution_count": 24,
   "metadata": {},
   "outputs": [],
   "source": [
    "# Period (number of folds)\n",
    "\n",
    "period = 5 * 365\n",
    "period = str(period) + ' days'"
   ]
  },
  {
   "cell_type": "code",
   "execution_count": 25,
   "metadata": {},
   "outputs": [],
   "source": [
    "# Horizon\n",
    "\n",
    "horizon = 365\n",
    "horizon = str(horizon) + ' days'"
   ]
  },
  {
   "cell_type": "code",
   "execution_count": 26,
   "metadata": {},
   "outputs": [
    {
     "name": "stderr",
     "output_type": "stream",
     "text": [
      "INFO:fbprophet:Making 9 forecasts with cutoffs between 1976-12-11 00:00:00 and 2016-12-01 00:00:00\n"
     ]
    },
    {
     "data": {
      "application/vnd.jupyter.widget-view+json": {
       "model_id": "c270f078e5af4958930ab5079866206f",
       "version_major": 2,
       "version_minor": 0
      },
      "text/plain": [
       "HBox(children=(FloatProgress(value=0.0, max=9.0), HTML(value='')))"
      ]
     },
     "metadata": {},
     "output_type": "display_data"
    },
    {
     "name": "stdout",
     "output_type": "stream",
     "text": [
      "\n"
     ]
    }
   ],
   "source": [
    "# Cross validaiton\n",
    "\n",
    "df_cv = cross_validation(m,initial=initial,period=period,horizon=horizon)"
   ]
  },
  {
   "cell_type": "code",
   "execution_count": 27,
   "metadata": {},
   "outputs": [
    {
     "data": {
      "text/html": [
       "<div>\n",
       "<style scoped>\n",
       "    .dataframe tbody tr th:only-of-type {\n",
       "        vertical-align: middle;\n",
       "    }\n",
       "\n",
       "    .dataframe tbody tr th {\n",
       "        vertical-align: top;\n",
       "    }\n",
       "\n",
       "    .dataframe thead th {\n",
       "        text-align: right;\n",
       "    }\n",
       "</style>\n",
       "<table border=\"1\" class=\"dataframe\">\n",
       "  <thead>\n",
       "    <tr style=\"text-align: right;\">\n",
       "      <th></th>\n",
       "      <th>ds</th>\n",
       "      <th>yhat</th>\n",
       "      <th>yhat_lower</th>\n",
       "      <th>yhat_upper</th>\n",
       "      <th>y</th>\n",
       "      <th>cutoff</th>\n",
       "    </tr>\n",
       "  </thead>\n",
       "  <tbody>\n",
       "    <tr>\n",
       "      <th>0</th>\n",
       "      <td>1977-01-01</td>\n",
       "      <td>108479.087397</td>\n",
       "      <td>107019.198485</td>\n",
       "      <td>109961.071503</td>\n",
       "      <td>102445.0</td>\n",
       "      <td>1976-12-11</td>\n",
       "    </tr>\n",
       "    <tr>\n",
       "      <th>1</th>\n",
       "      <td>1977-02-01</td>\n",
       "      <td>102996.111518</td>\n",
       "      <td>101501.295503</td>\n",
       "      <td>104352.363671</td>\n",
       "      <td>102416.0</td>\n",
       "      <td>1976-12-11</td>\n",
       "    </tr>\n",
       "    <tr>\n",
       "      <th>2</th>\n",
       "      <td>1977-03-01</td>\n",
       "      <td>118973.318133</td>\n",
       "      <td>117489.205987</td>\n",
       "      <td>120416.004280</td>\n",
       "      <td>119960.0</td>\n",
       "      <td>1976-12-11</td>\n",
       "    </tr>\n",
       "    <tr>\n",
       "      <th>3</th>\n",
       "      <td>1977-04-01</td>\n",
       "      <td>120612.923726</td>\n",
       "      <td>119170.990652</td>\n",
       "      <td>122166.209608</td>\n",
       "      <td>121513.0</td>\n",
       "      <td>1976-12-11</td>\n",
       "    </tr>\n",
       "    <tr>\n",
       "      <th>4</th>\n",
       "      <td>1977-05-01</td>\n",
       "      <td>127883.031847</td>\n",
       "      <td>126413.108118</td>\n",
       "      <td>129368.538520</td>\n",
       "      <td>128884.0</td>\n",
       "      <td>1976-12-11</td>\n",
       "    </tr>\n",
       "  </tbody>\n",
       "</table>\n",
       "</div>"
      ],
      "text/plain": [
       "          ds           yhat     yhat_lower     yhat_upper         y     cutoff\n",
       "0 1977-01-01  108479.087397  107019.198485  109961.071503  102445.0 1976-12-11\n",
       "1 1977-02-01  102996.111518  101501.295503  104352.363671  102416.0 1976-12-11\n",
       "2 1977-03-01  118973.318133  117489.205987  120416.004280  119960.0 1976-12-11\n",
       "3 1977-04-01  120612.923726  119170.990652  122166.209608  121513.0 1976-12-11\n",
       "4 1977-05-01  127883.031847  126413.108118  129368.538520  128884.0 1976-12-11"
      ]
     },
     "execution_count": 27,
     "metadata": {},
     "output_type": "execute_result"
    }
   ],
   "source": [
    "df_cv.head()"
   ]
  },
  {
   "cell_type": "code",
   "execution_count": 28,
   "metadata": {},
   "outputs": [
    {
     "data": {
      "text/plain": [
       "108"
      ]
     },
     "execution_count": 28,
     "metadata": {},
     "output_type": "execute_result"
    }
   ],
   "source": [
    "# Split into 5 periods\n",
    "\n",
    "len(df_cv)"
   ]
  },
  {
   "cell_type": "code",
   "execution_count": 29,
   "metadata": {},
   "outputs": [
    {
     "data": {
      "text/html": [
       "<div>\n",
       "<style scoped>\n",
       "    .dataframe tbody tr th:only-of-type {\n",
       "        vertical-align: middle;\n",
       "    }\n",
       "\n",
       "    .dataframe tbody tr th {\n",
       "        vertical-align: top;\n",
       "    }\n",
       "\n",
       "    .dataframe thead th {\n",
       "        text-align: right;\n",
       "    }\n",
       "</style>\n",
       "<table border=\"1\" class=\"dataframe\">\n",
       "  <thead>\n",
       "    <tr style=\"text-align: right;\">\n",
       "      <th></th>\n",
       "      <th>horizon</th>\n",
       "      <th>mse</th>\n",
       "      <th>rmse</th>\n",
       "      <th>mae</th>\n",
       "      <th>mape</th>\n",
       "      <th>mdape</th>\n",
       "      <th>coverage</th>\n",
       "    </tr>\n",
       "  </thead>\n",
       "  <tbody>\n",
       "    <tr>\n",
       "      <th>0</th>\n",
       "      <td>52 days</td>\n",
       "      <td>2.440480e+07</td>\n",
       "      <td>4940.121674</td>\n",
       "      <td>4543.226142</td>\n",
       "      <td>0.027839</td>\n",
       "      <td>0.023430</td>\n",
       "      <td>0.4</td>\n",
       "    </tr>\n",
       "    <tr>\n",
       "      <th>1</th>\n",
       "      <td>53 days</td>\n",
       "      <td>2.189073e+07</td>\n",
       "      <td>4678.753115</td>\n",
       "      <td>4275.518107</td>\n",
       "      <td>0.025071</td>\n",
       "      <td>0.023430</td>\n",
       "      <td>0.4</td>\n",
       "    </tr>\n",
       "    <tr>\n",
       "      <th>2</th>\n",
       "      <td>54 days</td>\n",
       "      <td>1.845424e+07</td>\n",
       "      <td>4295.839617</td>\n",
       "      <td>3751.881988</td>\n",
       "      <td>0.020184</td>\n",
       "      <td>0.022341</td>\n",
       "      <td>0.5</td>\n",
       "    </tr>\n",
       "    <tr>\n",
       "      <th>3</th>\n",
       "      <td>55 days</td>\n",
       "      <td>2.353986e+07</td>\n",
       "      <td>4851.789757</td>\n",
       "      <td>4286.500962</td>\n",
       "      <td>0.023332</td>\n",
       "      <td>0.023430</td>\n",
       "      <td>0.4</td>\n",
       "    </tr>\n",
       "    <tr>\n",
       "      <th>4</th>\n",
       "      <td>57 days</td>\n",
       "      <td>2.121071e+07</td>\n",
       "      <td>4605.508636</td>\n",
       "      <td>4011.466093</td>\n",
       "      <td>0.021541</td>\n",
       "      <td>0.022341</td>\n",
       "      <td>0.5</td>\n",
       "    </tr>\n",
       "    <tr>\n",
       "      <th>...</th>\n",
       "      <td>...</td>\n",
       "      <td>...</td>\n",
       "      <td>...</td>\n",
       "      <td>...</td>\n",
       "      <td>...</td>\n",
       "      <td>...</td>\n",
       "      <td>...</td>\n",
       "    </tr>\n",
       "    <tr>\n",
       "      <th>94</th>\n",
       "      <td>360 days</td>\n",
       "      <td>1.844636e+07</td>\n",
       "      <td>4294.922982</td>\n",
       "      <td>3768.283191</td>\n",
       "      <td>0.019668</td>\n",
       "      <td>0.019608</td>\n",
       "      <td>0.5</td>\n",
       "    </tr>\n",
       "    <tr>\n",
       "      <th>95</th>\n",
       "      <td>361 days</td>\n",
       "      <td>1.755041e+07</td>\n",
       "      <td>4189.321092</td>\n",
       "      <td>3487.275332</td>\n",
       "      <td>0.018267</td>\n",
       "      <td>0.019006</td>\n",
       "      <td>0.5</td>\n",
       "    </tr>\n",
       "    <tr>\n",
       "      <th>96</th>\n",
       "      <td>362 days</td>\n",
       "      <td>3.171401e+07</td>\n",
       "      <td>5631.519540</td>\n",
       "      <td>4404.117322</td>\n",
       "      <td>0.022028</td>\n",
       "      <td>0.024617</td>\n",
       "      <td>0.4</td>\n",
       "    </tr>\n",
       "    <tr>\n",
       "      <th>97</th>\n",
       "      <td>364 days</td>\n",
       "      <td>3.002471e+07</td>\n",
       "      <td>5479.480904</td>\n",
       "      <td>4245.018294</td>\n",
       "      <td>0.021435</td>\n",
       "      <td>0.021653</td>\n",
       "      <td>0.5</td>\n",
       "    </tr>\n",
       "    <tr>\n",
       "      <th>98</th>\n",
       "      <td>365 days</td>\n",
       "      <td>5.520529e+07</td>\n",
       "      <td>7430.026349</td>\n",
       "      <td>5655.313486</td>\n",
       "      <td>0.026650</td>\n",
       "      <td>0.025315</td>\n",
       "      <td>0.4</td>\n",
       "    </tr>\n",
       "  </tbody>\n",
       "</table>\n",
       "<p>99 rows × 7 columns</p>\n",
       "</div>"
      ],
      "text/plain": [
       "    horizon           mse         rmse          mae      mape     mdape  \\\n",
       "0   52 days  2.440480e+07  4940.121674  4543.226142  0.027839  0.023430   \n",
       "1   53 days  2.189073e+07  4678.753115  4275.518107  0.025071  0.023430   \n",
       "2   54 days  1.845424e+07  4295.839617  3751.881988  0.020184  0.022341   \n",
       "3   55 days  2.353986e+07  4851.789757  4286.500962  0.023332  0.023430   \n",
       "4   57 days  2.121071e+07  4605.508636  4011.466093  0.021541  0.022341   \n",
       "..      ...           ...          ...          ...       ...       ...   \n",
       "94 360 days  1.844636e+07  4294.922982  3768.283191  0.019668  0.019608   \n",
       "95 361 days  1.755041e+07  4189.321092  3487.275332  0.018267  0.019006   \n",
       "96 362 days  3.171401e+07  5631.519540  4404.117322  0.022028  0.024617   \n",
       "97 364 days  3.002471e+07  5479.480904  4245.018294  0.021435  0.021653   \n",
       "98 365 days  5.520529e+07  7430.026349  5655.313486  0.026650  0.025315   \n",
       "\n",
       "    coverage  \n",
       "0        0.4  \n",
       "1        0.4  \n",
       "2        0.5  \n",
       "3        0.4  \n",
       "4        0.5  \n",
       "..       ...  \n",
       "94       0.5  \n",
       "95       0.5  \n",
       "96       0.4  \n",
       "97       0.5  \n",
       "98       0.4  \n",
       "\n",
       "[99 rows x 7 columns]"
      ]
     },
     "execution_count": 29,
     "metadata": {},
     "output_type": "execute_result"
    }
   ],
   "source": [
    "# Performance_metrics allows you to see the raw data of mse,rmse,mae(moving average),mape(mean absolute percentage error)\n",
    "\n",
    "performance_metrics(df_cv)"
   ]
  },
  {
   "cell_type": "code",
   "execution_count": 30,
   "metadata": {},
   "outputs": [
    {
     "data": {
      "image/png": "[encoded data removed]",
      "text/plain": [
       "<Figure size 720x432 with 1 Axes>"
      ]
     },
     "metadata": {},
     "output_type": "display_data"
    }
   ],
   "source": [
    "# Plot this information\n",
    "# This dataset had alot of seasonality and strong trends to make it easier to predict far into the future\n",
    "\n",
    "plot_cross_validation_metric(df_cv,metric='mape');"
   ]
  }
 ],
 "metadata": {
  "kernelspec": {
   "display_name": "Python 3",
   "language": "python",
   "name": "python3"
  },
  "language_info": {
   "codemirror_mode": {
    "name": "ipython",
    "version": 3
   },
   "file_extension": ".py",
   "mimetype": "text/x-python",
   "name": "python",
   "nbconvert_exporter": "python",
   "pygments_lexer": "ipython3",
   "version": "3.7.6"
  }
 },
 "nbformat": 4,
 "nbformat_minor": 4
}
